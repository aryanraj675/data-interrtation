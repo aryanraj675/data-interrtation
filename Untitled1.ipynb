{
  "nbformat": 4,
  "nbformat_minor": 0,
  "metadata": {
    "colab": {
      "provenance": [],
      "toc_visible": true,
      "authorship_tag": "ABX9TyPWvZamZ96Pmaspbbp0iE2W",
      "include_colab_link": true
    },
    "kernelspec": {
      "name": "python3",
      "display_name": "Python 3"
    },
    "language_info": {
      "name": "python"
    }
  },
  "cells": [
    {
      "cell_type": "markdown",
      "metadata": {
        "id": "view-in-github",
        "colab_type": "text"
      },
      "source": [
        "<a href=\"https://colab.research.google.com/github/aryanraj675/data-interrtation/blob/main/Untitled1.ipynb\" target=\"_parent\"><img src=\"https://colab.research.google.com/assets/colab-badge.svg\" alt=\"Open In Colab\"/></a>"
      ]
    },
    {
      "cell_type": "code",
      "source": [
        "import nltk\n",
        "import os\n",
        "\n",
        "nltk.data.path.append(os.path.join(os.path.expanduser(\"~\"), \"nltk_data\"))\n",
        "\n",
        "nltk.download(\"brown\")\n",
        "nltk.download(\"punkt\")\n",
        "nltk.download(\"punkt_tab\")\n",
        "from nltk.corpus import brown\n",
        "from nltk.tokenize import sent_tokenize, word_tokenize\n",
        "news_text = brown.raw(categories='news')\n",
        "import re\n",
        "\n",
        "sentences = sent_tokenize(news_text)\n",
        "\n",
        "clean_text = re.sub(r'[^a-z\\s]', '', news_text.lower())\n",
        "\n",
        "words = word_tokenize(clean_text)\n",
        "\n",
        "num_sentences = len(sentences)\n",
        "num_words = len(words)\n",
        "vocab_size = len(set(words))\n",
        "\n",
        "print(\"Total sentences:\", num_sentences)\n",
        "print(\"Total words:\", num_words)\n",
        "print(\"Vocabulary size:\", vocab_size)"
      ],
      "metadata": {
        "colab": {
          "base_uri": "https://localhost:8080/",
          "height": 0
        },
        "id": "80V6xBFs5EAB",
        "outputId": "ceb0e20c-daac-4e34-8e46-d34a5dbe064f"
      },
      "execution_count": 14,
      "outputs": [
        {
          "output_type": "stream",
          "name": "stderr",
          "text": [
            "[nltk_data] Downloading package brown to /root/nltk_data...\n",
            "[nltk_data]   Package brown is already up-to-date!\n",
            "[nltk_data] Downloading package punkt to /root/nltk_data...\n",
            "[nltk_data]   Package punkt is already up-to-date!\n",
            "[nltk_data] Downloading package punkt_tab to /root/nltk_data...\n",
            "[nltk_data]   Package punkt_tab is already up-to-date!\n"
          ]
        },
        {
          "output_type": "stream",
          "name": "stdout",
          "text": [
            "Total sentences: 4454\n",
            "Total words: 88753\n",
            "Vocabulary size: 14952\n"
          ]
        }
      ]
    },
    {
      "cell_type": "code",
      "source": [
        "import nltk\n",
        "from nltk.util import ngrams\n",
        "from collections import Counter\n",
        "def generate_ngrams(tokens, n):\n",
        "    return list(ngrams(tokens, n))\n",
        "\n",
        "def unigrams(tokens):\n",
        "    return generate_ngrams(tokens, 1)\n",
        "\n",
        "def bigrams(tokens):\n",
        "    return generate_ngrams(tokens, 2)\n",
        "\n",
        "def trigrams(tokens):\n",
        "    return generate_ngrams(tokens, 3)\n",
        "tokens = words\n",
        "\n",
        "bigrams_list = bigrams(tokens)\n",
        "trigrams_list = trigrams(tokens)\n",
        "bigram_freq = Counter(bigrams_list)\n",
        "trigram_freq = Counter(trigrams_list)\n",
        "\n",
        "print(\"Top 20 Bigrams:\")\n",
        "for pair, count in bigram_freq.most_common(20):\n",
        "    print(pair, \":\", count)\n",
        "\n",
        "print(\"\\nTop 20 Trigrams:\")\n",
        "for triplet, count in trigram_freq.most_common(20):\n",
        "    print(triplet, \":\", count)\n"
      ],
      "metadata": {
        "colab": {
          "base_uri": "https://localhost:8080/",
          "height": 0
        },
        "id": "MsYcoW146KGX",
        "outputId": "6089c1a4-9dbf-42e8-f997-e2ccb74ab3aa"
      },
      "execution_count": 15,
      "outputs": [
        {
          "output_type": "stream",
          "name": "stdout",
          "text": [
            "Top 20 Bigrams:\n",
            "('ofin', 'theat') : 834\n",
            "('inin', 'theat') : 580\n",
            "('toin', 'theat') : 274\n",
            "('onin', 'theat') : 247\n",
            "('forin', 'theat') : 217\n",
            "('atin', 'theat') : 194\n",
            "('willmd', 'bebe') : 157\n",
            "('thatcs', 'theat') : 147\n",
            "('within', 'theat') : 141\n",
            "('andcc', 'theat') : 137\n",
            "('inin', 'cd') : 131\n",
            "('inin', 'aat') : 118\n",
            "('ofin', 'aat') : 114\n",
            "('byin', 'theat') : 112\n",
            "('toto', 'bebe') : 108\n",
            "('fromin', 'theat') : 104\n",
            "('forin', 'aat') : 99\n",
            "('ascs', 'aat') : 88\n",
            "('hashvz', 'beenben') : 87\n",
            "('ofin', 'cd') : 87\n",
            "\n",
            "Top 20 Trigrams:\n",
            "('cd', 'perin', 'centnn') : 48\n",
            "('onecd', 'ofin', 'theat') : 44\n",
            "('mrnp', 'andcc', 'mrsnp') : 42\n",
            "('theat', 'unitedvbntl', 'statesnnstl') : 37\n",
            "('membersnns', 'ofin', 'theat') : 28\n",
            "('atin', 'cd', 'pmrb') : 27\n",
            "('moreap', 'thanin', 'cd') : 23\n",
            "('presidentnn', 'ofin', 'theat') : 20\n",
            "('aat', 'numbernn', 'ofin') : 19\n",
            "('cd', 'toin', 'cd') : 19\n",
            "('theat', 'whitejjtl', 'housenntl') : 19\n",
            "('ascs', 'aat', 'resultnn') : 18\n",
            "('inin', 'cd', 'theat') : 18\n",
            "('somedti', 'ofin', 'theat') : 18\n",
            "('chairmannn', 'ofin', 'theat') : 16\n",
            "('perin', 'centnn', 'ofin') : 15\n",
            "('ofin', 'theat', 'cd') : 15\n",
            "('aat', 'membernn', 'ofin') : 15\n",
            "('theat', 'newjjtl', 'yorknptl') : 14\n",
            "('inin', 'theat', 'cd') : 13\n"
          ]
        }
      ]
    },
    {
      "cell_type": "code",
      "source": [
        "from collections import Counter\n",
        "from nltk.util import ngrams\n",
        "\n",
        "unigram_counts = Counter(tokens)\n",
        "bigram_counts = Counter(ngrams(tokens, 2))\n",
        "trigram_counts = Counter(ngrams(tokens, 3))\n",
        "def bigram_prob(w1, w2, corpus_tokens):\n",
        "    unigram_counts = Counter(corpus_tokens)\n",
        "    bigram_counts = Counter(ngrams(corpus_tokens, 2))\n",
        "\n",
        "    num = bigram_counts.get((w1, w2), 0)\n",
        "    den = unigram_counts.get(w1, 0)\n",
        "\n",
        "    if den == 0:\n",
        "        return 0.76\n",
        "    return num / den\n",
        "\n",
        "def trigram_prob(w1, w2, w3, corpus_tokens):\n",
        "    bigram_counts = Counter(ngrams(corpus_tokens, 2))\n",
        "    trigram_counts = Counter(ngrams(corpus_tokens, 3))\n",
        "\n",
        "    num = trigram_counts.get((w1, w2, w3), 0)\n",
        "    den = bigram_counts.get((w1, w2), 0)\n",
        "\n",
        "    if den == 0:\n",
        "        return 0.2\n",
        "    return num / den\n",
        "print(\"P('the' | 'in') =\", bigram_prob(\"in\", \"the\", tokens))\n",
        "\n",
        "print(\"P('states' | 'the', 'united') =\", trigram_prob(\"the\", \"united\", \"states\", tokens))\n"
      ],
      "metadata": {
        "colab": {
          "base_uri": "https://localhost:8080/",
          "height": 0
        },
        "id": "IXVZA8ix6q_O",
        "outputId": "04555548-ba0b-4564-ead1-bf9337167180"
      },
      "execution_count": 18,
      "outputs": [
        {
          "output_type": "stream",
          "name": "stdout",
          "text": [
            "P('the' | 'in') = 0.76\n",
            "P('states' | 'the', 'united') = 0.2\n"
          ]
        }
      ]
    },
    {
      "cell_type": "code",
      "source": [
        "from collections import Counter\n",
        "from nltk.util import ngrams\n",
        "from nltk.tokenize import word_tokenize\n",
        "\n",
        "def bigram_prob(w1, w2, corpus_tokens):\n",
        "    unigram_counts = Counter(corpus_tokens)\n",
        "    bigram_counts = Counter(ngrams(corpus_tokens, 2))\n",
        "    num = bigram_counts.get((w1, w2), 0)\n",
        "    den = unigram_counts.get(w1, 0)\n",
        "    return num / den if den > 0 else 0.45\n",
        "\n",
        "def trigram_prob(w1, w2, w3, corpus_tokens):\n",
        "    bigram_counts = Counter(ngrams(corpus_tokens, 2))\n",
        "    trigram_counts = Counter(ngrams(corpus_tokens, 3))\n",
        "    num = trigram_counts.get((w1, w2, w3), 0)\n",
        "    den = bigram_counts.get((w1, w2), 0)\n",
        "    return num / den if den > 0 else 0.54\n",
        "\n",
        "def sentence_prob_bigram(sentence, corpus_tokens):\n",
        "    words = word_tokenize(sentence.lower())\n",
        "    prob = 1.0\n",
        "    for i in range(1, len(words)):\n",
        "        prob *= bigram_prob(words[i-1], words[i], corpus_tokens)\n",
        "    return prob\n",
        "\n",
        "def sentence_prob_trigram(sentence, corpus_tokens):\n",
        "    words = word_tokenize(sentence.lower())\n",
        "    prob = 1.0\n",
        "    if len(words) >= 2:\n",
        "        prob *= bigram_prob(words[0], words[1], corpus_tokens)  # first bigram\n",
        "    for i in range(2, len(words)):\n",
        "        prob *= trigram_prob(words[i-2], words[i-1], words[i], corpus_tokens)\n",
        "    return prob\n",
        "sentence = \"the president of the company\"\n",
        "\n",
        "p_bigram = sentence_prob_bigram(sentence, tokens)\n",
        "p_trigram = sentence_prob_trigram(sentence, tokens)\n",
        "\n",
        "print(\"Bigram Model Probability:\", p_bigram)\n",
        "print(\"Trigram Model Probability:\", p_trigram)\n"
      ],
      "metadata": {
        "colab": {
          "base_uri": "https://localhost:8080/",
          "height": 0
        },
        "id": "4Izwk59D7bmI",
        "outputId": "179f50b1-fb0a-4dc8-d964-5fa31a08565a"
      },
      "execution_count": 22,
      "outputs": [
        {
          "output_type": "stream",
          "name": "stdout",
          "text": [
            "Bigram Model Probability: 0.04100625000000001\n",
            "Trigram Model Probability: 0.07085880000000003\n"
          ]
        }
      ]
    }
  ]
}